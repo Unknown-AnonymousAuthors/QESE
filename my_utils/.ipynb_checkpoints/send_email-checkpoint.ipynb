{
 "cells": [
  {
   "cell_type": "code",
   "execution_count": 3,
   "id": "f55f8d0a",
   "metadata": {},
   "outputs": [],
   "source": [
    "def send_email():\n",
    "    import smtplib\n",
    "    from email.header import Header\n",
    "    from email.mime.multipart import MIMEMultipart\n",
    "    from email.mime.text import MIMEText\n",
    "    from email.utils import formataddr\n",
    "\n",
    "    my_sender = '598126775@qq.com'  # 发件人邮箱账号，需要改成自己的\n",
    "    my_pass = 'ckmghlzxekyxbbfe'  # 发件人邮箱密码 经过授权后，填写授权码代替密码，需要改成自己的\n",
    "    my_user = '598126775@qq.com'  # 收件人邮箱账号，我这边发送给自己 需要改成收件人\n",
    "\n",
    "    #创建一个带附件的实例\n",
    "    message = MIMEMultipart()\n",
    "    # message['From'] = Header(\"JasonWangColab\", 'utf-8')\n",
    "    # message['To'] =  Header(\"测试\", 'utf-8')\n",
    "    subject = 'Python SMTP 邮件测试'\n",
    "    message['Subject'] = Header(subject, 'utf-8')\n",
    "\n",
    "    #邮件正文内容\n",
    "    message.attach(MIMEText('邮件附件测试内容', 'plain', 'utf-8'))\n",
    "\n",
    "    #\"\"\"\n",
    "    # 构造附件1，传送当前目录下的 test.txt 文件\n",
    "    att1 = MIMEText(open('test.txt', 'rb').read(), 'base64', 'utf-8')\n",
    "    att1[\"Content-Type\"] = 'application/octet-stream'\n",
    "    # 这里的filename可以任意写，写什么名字，邮件中显示什么名字\n",
    "    att1[\"Content-Disposition\"] = 'attachment; filename=\"test.txt\"'\n",
    "    message.attach(att1)\n",
    "    #\"\"\"\n",
    "\n",
    "    def mail():\n",
    "        ret = True\n",
    "        try:\n",
    "            msg = MIMEText('填写邮件内容', 'plain', 'utf-8')\n",
    "            # msg['From'] = formataddr([\"Jankos Hsu\", my_sender])  # 括号里的对应发件人邮箱昵称、发件人邮箱账号\n",
    "            # msg['To'] = formataddr([\"Jankos Hsu\", my_user])  # 括号里的对应收件人邮箱昵称、收件人邮箱账号\n",
    "            # msg['Subject'] = \"菜鸟教程发送邮件测试\"  # 邮件的主题，也可以说是标题\n",
    "\n",
    "            server = smtplib.SMTP_SSL(\"smtp.qq.com\", 465)  # 发件人邮箱中的SMTP服务器，端口是25\n",
    "            server.login(my_sender, my_pass)  # 括号中对应的是发件人邮箱账号、邮箱密码\n",
    "            server.sendmail(my_sender, [my_user, ], message.as_string())  # 括号中对应的是发件人邮箱账号、收件人邮箱账号、发送邮件\n",
    "            server.quit()  # 关闭连接\n",
    "        except Exception:  # 如果 try 中的语句没有执行，则会执行下面的 ret=False\n",
    "            ret = False\n",
    "        return ret\n",
    "\n",
    "\n",
    "    ret = mail()\n",
    "    if ret:\n",
    "        print(\"邮件发送成功\")\n",
    "    else:\n",
    "        print(\"邮件发送失败\")"
   ]
  },
  {
   "cell_type": "code",
   "execution_count": 4,
   "id": "afb6de1d",
   "metadata": {},
   "outputs": [
    {
     "name": "stdout",
     "output_type": "stream",
     "text": [
      "邮件发送成功\n"
     ]
    }
   ],
   "source": [
    "send_email()"
   ]
  },
  {
   "cell_type": "code",
   "execution_count": null,
   "id": "b9fc4197",
   "metadata": {},
   "outputs": [],
   "source": []
  }
 ],
 "metadata": {
  "kernelspec": {
   "display_name": "Python 3 (ipykernel)",
   "language": "python",
   "name": "python3"
  },
  "language_info": {
   "codemirror_mode": {
    "name": "ipython",
    "version": 3
   },
   "file_extension": ".py",
   "mimetype": "text/x-python",
   "name": "python",
   "nbconvert_exporter": "python",
   "pygments_lexer": "ipython3",
   "version": "3.7.2"
  }
 },
 "nbformat": 4,
 "nbformat_minor": 5
}
